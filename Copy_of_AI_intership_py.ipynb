{
  "nbformat": 4,
  "nbformat_minor": 0,
  "metadata": {
    "colab": {
      "provenance": [],
      "authorship_tag": "ABX9TyPuFZkz9bwEnpnnzh0ppDxD",
      "include_colab_link": true
    },
    "kernelspec": {
      "name": "python3",
      "display_name": "Python 3"
    },
    "language_info": {
      "name": "python"
    }
  },
  "cells": [
    {
      "cell_type": "markdown",
      "metadata": {
        "id": "view-in-github",
        "colab_type": "text"
      },
      "source": [
        "<a href=\"https://colab.research.google.com/github/steveeev200002020200/Aisyncvoice/blob/steveeev200002020200-patch-1/Copy_of_AI_intership_py.ipynb\" target=\"_parent\"><img src=\"https://colab.research.google.com/assets/colab-badge.svg\" alt=\"Open In Colab\"/></a>"
      ]
    },
    {
      "cell_type": "code",
      "execution_count": null,
      "metadata": {
        "colab": {
          "base_uri": "https://localhost:8080/"
        },
        "id": "ZjSpoOerGCLJ",
        "outputId": "f6b26be4-fa2e-47f9-da89-fdad434c649c"
      },
      "outputs": [
        {
          "output_type": "stream",
          "name": "stdout",
          "text": [
            "Accuracy: 0.00%\n"
          ]
        }
      ],
      "source": [
        "# Import libraries\n",
        "import pandas as pd\n",
        "from sklearn.feature_extraction.text import TfidfVectorizer\n",
        "from sklearn.model_selection import train_test_split\n",
        "from sklearn.tree import DecisionTreeClassifier\n",
        "from sklearn.metrics import accuracy_score\n",
        "\n",
        "# Sample dataset (webtoon descriptions and their categories)\n",
        "data = {'description': [\"A love story between a human and a ghost\",\n",
        "                        \"A battle of warriors to save their kingdom\",\n",
        "                        \"A fantasy world where magic rules the land\",\n",
        "                        \"A romantic comedy set in high school\",\n",
        "                        \"An action-packed adventure with superheroes\"],\n",
        "        'category': ['romance', 'action', 'fantasy', 'romance', 'action']}\n",
        "\n",
        "# Create a DataFrame\n",
        "df = pd.DataFrame(data)\n",
        "\n",
        "# Text vectorization (convert text to numerical features)\n",
        "vectorizer = TfidfVectorizer()\n",
        "X = vectorizer.fit_transform(df['description'])\n",
        "\n",
        "# Prepare target labels\n",
        "y = df['category']\n",
        "\n",
        "# Split the data\n",
        "X_train, X_test, y_train, y_test = train_test_split(X, y, test_size=0.2, random_state=42)\n",
        "\n",
        "# Build a Decision Tree Classifier\n",
        "model = DecisionTreeClassifier()\n",
        "model.fit(X_train, y_train)\n",
        "\n",
        "# Predict on test data\n",
        "y_pred = model.predict(X_test)\n",
        "\n",
        "# Evaluate the model\n",
        "accuracy = accuracy_score(y_test, y_pred)\n",
        "print(f'Accuracy: {accuracy * 100:.2f}%')\n"
      ]
    },
    {
      "cell_type": "code",
      "source": [
        "#TASK 2\n",
        "# Import TextBlob for sentiment analysis\n",
        "from textblob import TextBlob\n",
        "\n",
        "# Sample comments\n",
        "comments = [\"I love manga more than manhwa!\",\n",
        "            \"Manhwa has a unique storytelling style, but I prefer manga.\",\n",
        "            \"This was a boring comparison, manga is way better.\",\n",
        "            \"Both are good in their own way.\"]\n",
        "\n",
        "# Sentiment analysis\n",
        "positive, negative = 0, 0\n",
        "for comment in comments:\n",
        "    analysis = TextBlob(comment)\n",
        "    if analysis.sentiment.polarity > 0:\n",
        "        positive += 1\n",
        "    else:\n",
        "        negative += 1\n",
        "\n",
        "# Summary of results\n",
        "total_comments = len(comments)\n",
        "print(f'Positive comments: {positive / total_comments * 100:.2f}%')\n",
        "print(f'Negative comments: {negative / total_comments * 100:.2f}%')\n"
      ],
      "metadata": {
        "colab": {
          "base_uri": "https://localhost:8080/"
        },
        "id": "xa5OksGaGrBc",
        "outputId": "865e2bcc-9c10-4255-c987-e1f0440853d2"
      },
      "execution_count": null,
      "outputs": [
        {
          "output_type": "stream",
          "name": "stdout",
          "text": [
            "Positive comments: 75.00%\n",
            "Negative comments: 25.00%\n"
          ]
        }
      ]
    },
    {
      "cell_type": "code",
      "source": [
        "#task 3\n",
        "# Import libraries\n",
        "import random\n",
        "\n",
        "# Predefined responses\n",
        "responses = {\n",
        "    \"what is castle swimmer about\": \"Castle Swimmer is a fantasy story about a prophecy and a young fish prince.\",\n",
        "    \"who are the main characters\": \"The main characters are Prince Siren and Kappa.\",\n",
        "    \"what is the prophecy\": \"The prophecy is that Prince Siren will bring an end to the suffering of many creatures.\"\n",
        "}\n",
        "\n",
        "# Chatbot function\n",
        "def chatbot():\n",
        "    print(\"Chatbot: Hi! Ask me anything about Castle Swimmer.\")\n",
        "    while True:\n",
        "        user_input = input(\"You: \").lower()\n",
        "        for key in responses:\n",
        "            if key in user_input:\n",
        "                print(f\"Chatbot: {responses[key]}\")\n",
        "                break\n",
        "        else:\n",
        "            print(\"Chatbot: Sorry, I don't have an answer for that.\")\n",
        "\n",
        "# Run chatbot\n",
        "chatbot()\n"
      ],
      "metadata": {
        "colab": {
          "base_uri": "https://localhost:8080/"
        },
        "id": "r8JvY9UYGNWB",
        "outputId": "992ea7ba-7004-4b8d-c2af-255f8f51cbe8"
      },
      "execution_count": null,
      "outputs": [
        {
          "output_type": "stream",
          "name": "stdout",
          "text": [
            "Chatbot: Hi! Ask me anything about Castle Swimmer.\n",
            "You: What is Castle Swimmer about?\n",
            "Chatbot: Castle Swimmer is a fantasy story about a prophecy and a young fish prince.\n",
            "You: Who are the main characters?\n",
            "Chatbot: The main characters are Prince Siren and Kappa.\n"
          ]
        }
      ]
    }
  ]
}